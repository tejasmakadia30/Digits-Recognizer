{
  "nbformat": 4,
  "nbformat_minor": 0,
  "metadata": {
    "colab": {
      "name": "Digits_Recog",
      "provenance": [],
      "collapsed_sections": [],
      "mount_file_id": "129rbuyu4cLj1L4xDBojTgOly4k-WhUa_",
      "authorship_tag": "ABX9TyONVbYGyEJBXwhPfWCR+r4v"
    },
    "kernelspec": {
      "name": "python3",
      "display_name": "Python 3"
    },
    "accelerator": "GPU"
  },
  "cells": [
    {
      "cell_type": "code",
      "metadata": {
        "id": "Y9pTB8ruvd7S",
        "colab_type": "code",
        "colab": {}
      },
      "source": [
        "import numpy as np\n",
        "import pandas as pd\n",
        "import tensorflow as tf\n",
        "from tensorflow.keras.layers import Dense, Flatten, Dropout, Conv2D, MaxPool2D\n",
        "from tensorflow.keras.callbacks import EarlyStopping, ModelCheckpoint\n",
        "from tensorflow.keras.models import Sequential, load_model\n",
        "from tensorflow.keras.utils import to_categorical\n",
        "\n",
        "from sklearn.model_selection import train_test_split\n",
        "import matplotlib.pyplot as plt\n",
        "np.random.seed(42)"
      ],
      "execution_count": 1,
      "outputs": []
    },
    {
      "cell_type": "markdown",
      "metadata": {
        "id": "fu-S3AH6wfu6",
        "colab_type": "text"
      },
      "source": [
        "# Train & Test Set"
      ]
    },
    {
      "cell_type": "code",
      "metadata": {
        "id": "jY6Wpmb7wmkj",
        "colab_type": "code",
        "colab": {}
      },
      "source": [
        "df_train = pd.read_csv('/content/drive/My Drive/Colab Notebooks/Digit Recog./train.csv')\n",
        "df_test = pd.read_csv('/content/drive/My Drive/Colab Notebooks/Digit Recog./test.csv')"
      ],
      "execution_count": 2,
      "outputs": []
    },
    {
      "cell_type": "markdown",
      "metadata": {
        "id": "i90hNhr96alV",
        "colab_type": "text"
      },
      "source": [
        "# Separate Labels"
      ]
    },
    {
      "cell_type": "code",
      "metadata": {
        "id": "5ArYs7ltxImp",
        "colab_type": "code",
        "colab": {}
      },
      "source": [
        "y_train = df_train['label']\n",
        "X_train = df_train.drop(labels=['label'], axis=1)\n",
        "del df_train"
      ],
      "execution_count": 3,
      "outputs": []
    },
    {
      "cell_type": "markdown",
      "metadata": {
        "id": "1YmdpFUy8TIU",
        "colab_type": "text"
      },
      "source": [
        "# Pixel values Normalization"
      ]
    },
    {
      "cell_type": "code",
      "metadata": {
        "id": "SfHnntKo8Raj",
        "colab_type": "code",
        "colab": {}
      },
      "source": [
        "X_train = X_train/255.0\n",
        "df_test = df_test/255.0"
      ],
      "execution_count": 4,
      "outputs": []
    },
    {
      "cell_type": "markdown",
      "metadata": {
        "id": "kOjKD1os8iRx",
        "colab_type": "text"
      },
      "source": [
        "Simple model by stacking the 4 layers"
      ]
    },
    {
      "cell_type": "code",
      "metadata": {
        "id": "OvpW2v3q8hOJ",
        "colab_type": "code",
        "colab": {}
      },
      "source": [
        "model = tf.keras.models.Sequential([\n",
        "        tf.keras.layers.Flatten(input_shape = (28, 28)),\n",
        "        tf.keras.layers.Dense(128, activation='relu'),\n",
        "        tf.keras.layers.Dropout(0.2),\n",
        "        tf.keras.layers.Dense(10)                             \n",
        "])"
      ],
      "execution_count": 5,
      "outputs": []
    },
    {
      "cell_type": "code",
      "metadata": {
        "id": "5fZVy4Km9m92",
        "colab_type": "code",
        "colab": {
          "base_uri": "https://localhost:8080/",
          "height": 187
        },
        "outputId": "ff834075-4904-405a-c30e-0df3be1e0008"
      },
      "source": [
        "predictions = model(X_train[:1]).numpy()\n",
        "predictions"
      ],
      "execution_count": 6,
      "outputs": [
        {
          "output_type": "stream",
          "text": [
            "WARNING:tensorflow:Layer dense is casting an input tensor from dtype float64 to the layer's dtype of float32, which is new behavior in TensorFlow 2.  The layer has dtype float32 because its dtype defaults to floatx.\n",
            "\n",
            "If you intended to run this layer in float32, you can safely ignore this warning. If in doubt, this warning is likely only an issue if you are porting a TensorFlow 1.X model to TensorFlow 2.\n",
            "\n",
            "To change all layers to have dtype float64 by default, call `tf.keras.backend.set_floatx('float64')`. To change just this layer, pass dtype='float64' to the layer constructor. If you are the author of this layer, you can disable autocasting by passing autocast=False to the base Layer constructor.\n",
            "\n"
          ],
          "name": "stdout"
        },
        {
          "output_type": "execute_result",
          "data": {
            "text/plain": [
              "array([[ 0.40584373,  0.22369955,  0.41903475, -0.36501247, -0.12511937,\n",
              "         0.5401423 ,  0.2324685 , -0.33007234,  0.33099544,  0.0624989 ]],\n",
              "      dtype=float32)"
            ]
          },
          "metadata": {
            "tags": []
          },
          "execution_count": 6
        }
      ]
    },
    {
      "cell_type": "code",
      "metadata": {
        "id": "tErnPNxvELAC",
        "colab_type": "code",
        "colab": {
          "base_uri": "https://localhost:8080/",
          "height": 67
        },
        "outputId": "e35e4555-1fb9-4d1f-875c-5a02c0218d80"
      },
      "source": [
        "tf.nn.softmax(predictions).numpy()"
      ],
      "execution_count": 7,
      "outputs": [
        {
          "output_type": "execute_result",
          "data": {
            "text/plain": [
              "array([[0.12502633, 0.10420708, 0.12668647, 0.05783928, 0.07352027,\n",
              "        0.14299689, 0.10512489, 0.05989591, 0.11600997, 0.08869287]],\n",
              "      dtype=float32)"
            ]
          },
          "metadata": {
            "tags": []
          },
          "execution_count": 7
        }
      ]
    },
    {
      "cell_type": "code",
      "metadata": {
        "id": "Hup1WOsaFxla",
        "colab_type": "code",
        "colab": {}
      },
      "source": [
        "model.compile(optimizer = 'adam', loss = tf.keras.losses.SparseCategoricalCrossentropy(from_logits = True), metrics = ['accuracy'])"
      ],
      "execution_count": 8,
      "outputs": []
    },
    {
      "cell_type": "code",
      "metadata": {
        "id": "XvpYDBl_F0ne",
        "colab_type": "code",
        "colab": {
          "base_uri": "https://localhost:8080/",
          "height": 421
        },
        "outputId": "3369e14b-039c-4285-aba8-392f76e3aac5"
      },
      "source": [
        "model.fit(X_train, y_train, epochs = 10)"
      ],
      "execution_count": 9,
      "outputs": [
        {
          "output_type": "stream",
          "text": [
            "Epoch 1/10\n",
            "WARNING:tensorflow:Model was constructed with shape (None, 28, 28) for input Tensor(\"flatten_input:0\", shape=(None, 28, 28), dtype=float32), but it was called on an input with incompatible shape (None, 784).\n",
            "WARNING:tensorflow:Model was constructed with shape (None, 28, 28) for input Tensor(\"flatten_input:0\", shape=(None, 28, 28), dtype=float32), but it was called on an input with incompatible shape (None, 784).\n",
            "1313/1313 [==============================] - 3s 2ms/step - loss: 0.3373 - accuracy: 0.9008\n",
            "Epoch 2/10\n",
            "1313/1313 [==============================] - 2s 2ms/step - loss: 0.1632 - accuracy: 0.9504\n",
            "Epoch 3/10\n",
            "1313/1313 [==============================] - 3s 2ms/step - loss: 0.1229 - accuracy: 0.9627\n",
            "Epoch 4/10\n",
            "1313/1313 [==============================] - 2s 2ms/step - loss: 0.0987 - accuracy: 0.9700\n",
            "Epoch 5/10\n",
            "1313/1313 [==============================] - 3s 2ms/step - loss: 0.0823 - accuracy: 0.9744\n",
            "Epoch 6/10\n",
            "1313/1313 [==============================] - 3s 2ms/step - loss: 0.0719 - accuracy: 0.9771\n",
            "Epoch 7/10\n",
            "1313/1313 [==============================] - 3s 2ms/step - loss: 0.0626 - accuracy: 0.9795\n",
            "Epoch 8/10\n",
            "1313/1313 [==============================] - 3s 2ms/step - loss: 0.0551 - accuracy: 0.9821\n",
            "Epoch 9/10\n",
            "1313/1313 [==============================] - 3s 2ms/step - loss: 0.0508 - accuracy: 0.9828\n",
            "Epoch 10/10\n",
            "1313/1313 [==============================] - 2s 2ms/step - loss: 0.0464 - accuracy: 0.9848\n"
          ],
          "name": "stdout"
        },
        {
          "output_type": "execute_result",
          "data": {
            "text/plain": [
              "<tensorflow.python.keras.callbacks.History at 0x7f4ff3aef0f0>"
            ]
          },
          "metadata": {
            "tags": []
          },
          "execution_count": 9
        }
      ]
    },
    {
      "cell_type": "code",
      "metadata": {
        "id": "nEe8FGGSF4j7",
        "colab_type": "code",
        "colab": {
          "base_uri": "https://localhost:8080/",
          "height": 53
        },
        "outputId": "3466fb30-171d-43e8-871e-1a9d7a4ee439"
      },
      "source": [
        "predictions_1 = model.predict(df_test)\n",
        "\n",
        "predictions_2 = np.argmax(predictions_1, axis = 1)\n",
        "\n",
        "final_predictions = pd.Series(predictions_2, name = \"Label\")"
      ],
      "execution_count": 10,
      "outputs": [
        {
          "output_type": "stream",
          "text": [
            "WARNING:tensorflow:Model was constructed with shape (None, 28, 28) for input Tensor(\"flatten_input:0\", shape=(None, 28, 28), dtype=float32), but it was called on an input with incompatible shape (32, 784).\n"
          ],
          "name": "stdout"
        }
      ]
    },
    {
      "cell_type": "code",
      "metadata": {
        "id": "TDox905qGZBT",
        "colab_type": "code",
        "colab": {}
      },
      "source": [
        "submission = pd.concat([pd.Series(range(1, 28001), name = \"ImageId\"), final_predictions], axis = 1)\n",
        "\n",
        "submission.to_csv(\"tensorflow_crash_course_submission.csv\", index = False)"
      ],
      "execution_count": 11,
      "outputs": []
    }
  ]
}