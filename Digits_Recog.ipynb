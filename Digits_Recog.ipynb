{
  "nbformat": 4,
  "nbformat_minor": 0,
  "metadata": {
    "colab": {
      "name": "Digits_Recog",
      "provenance": [],
      "collapsed_sections": [],
      "mount_file_id": "129rbuyu4cLj1L4xDBojTgOly4k-WhUa_",
      "authorship_tag": "ABX9TyP4u0swyOipcSiDR2OlWEyU"
    },
    "kernelspec": {
      "name": "python3",
      "display_name": "Python 3"
    },
    "accelerator": "GPU"
  },
  "cells": [
    {
      "cell_type": "code",
      "metadata": {
        "id": "Y9pTB8ruvd7S",
        "colab_type": "code",
        "colab": {}
      },
      "source": [
        "import numpy as np\n",
        "import pandas as pd\n",
        "import tensorflow as tf\n",
        "from tensorflow.keras.layers import Dense, Flatten, Dropout, Conv2D, MaxPool2D\n",
        "from tensorflow.keras.callbacks import EarlyStopping, ModelCheckpoint\n",
        "from tensorflow.keras.models import Sequential, load_model\n",
        "from tensorflow.keras.utils import to_categorical\n",
        "\n",
        "from sklearn.model_selection import train_test_split\n",
        "import matplotlib.pyplot as plt\n",
        "np.random.seed(42)"
      ],
      "execution_count": 23,
      "outputs": []
    },
    {
      "cell_type": "markdown",
      "metadata": {
        "id": "fu-S3AH6wfu6",
        "colab_type": "text"
      },
      "source": [
        "# Train & Test Set"
      ]
    },
    {
      "cell_type": "code",
      "metadata": {
        "id": "jY6Wpmb7wmkj",
        "colab_type": "code",
        "colab": {}
      },
      "source": [
        "df_train = pd.read_csv('/content/drive/My Drive/Colab Notebooks/Digit Recog./train.csv')\n",
        "df_test = pd.read_csv('/content/drive/My Drive/Colab Notebooks/Digit Recog./test.csv')"
      ],
      "execution_count": 24,
      "outputs": []
    },
    {
      "cell_type": "markdown",
      "metadata": {
        "id": "i90hNhr96alV",
        "colab_type": "text"
      },
      "source": [
        "# Separate Labels"
      ]
    },
    {
      "cell_type": "code",
      "metadata": {
        "id": "5ArYs7ltxImp",
        "colab_type": "code",
        "colab": {}
      },
      "source": [
        "y_train = df_train['label']\n",
        "X_train = df_train.drop(labels=['label'], axis=1)\n",
        "del df_train"
      ],
      "execution_count": 25,
      "outputs": []
    },
    {
      "cell_type": "markdown",
      "metadata": {
        "id": "1YmdpFUy8TIU",
        "colab_type": "text"
      },
      "source": [
        "# Pixel values Normalization"
      ]
    },
    {
      "cell_type": "code",
      "metadata": {
        "id": "SfHnntKo8Raj",
        "colab_type": "code",
        "colab": {}
      },
      "source": [
        "X_train = X_train/255.0\n",
        "df_test = df_test/255.0"
      ],
      "execution_count": 26,
      "outputs": []
    },
    {
      "cell_type": "markdown",
      "metadata": {
        "id": "kOjKD1os8iRx",
        "colab_type": "text"
      },
      "source": [
        "Simple model by stacking the 4 layers"
      ]
    },
    {
      "cell_type": "code",
      "metadata": {
        "id": "OvpW2v3q8hOJ",
        "colab_type": "code",
        "colab": {}
      },
      "source": [
        "model = tf.keras.models.Sequential([\n",
        "        tf.keras.layers.Flatten(input_shape = (28, 28)),\n",
        "        tf.keras.layers.Dense(128, activation='relu'),\n",
        "        tf.keras.layers.Dropout(0.2),\n",
        "        tf.keras.layers.Dense(10)                             \n",
        "])"
      ],
      "execution_count": 29,
      "outputs": []
    },
    {
      "cell_type": "code",
      "metadata": {
        "id": "5fZVy4Km9m92",
        "colab_type": "code",
        "colab": {
          "base_uri": "https://localhost:8080/",
          "height": 187
        },
        "outputId": "601fe763-7e01-4422-f158-0fd34a829801"
      },
      "source": [
        "predictions = model(X_train[:1]).numpy()\n",
        "predictions"
      ],
      "execution_count": 30,
      "outputs": [
        {
          "output_type": "stream",
          "text": [
            "WARNING:tensorflow:Layer dense_6 is casting an input tensor from dtype float64 to the layer's dtype of float32, which is new behavior in TensorFlow 2.  The layer has dtype float32 because its dtype defaults to floatx.\n",
            "\n",
            "If you intended to run this layer in float32, you can safely ignore this warning. If in doubt, this warning is likely only an issue if you are porting a TensorFlow 1.X model to TensorFlow 2.\n",
            "\n",
            "To change all layers to have dtype float64 by default, call `tf.keras.backend.set_floatx('float64')`. To change just this layer, pass dtype='float64' to the layer constructor. If you are the author of this layer, you can disable autocasting by passing autocast=False to the base Layer constructor.\n",
            "\n"
          ],
          "name": "stdout"
        },
        {
          "output_type": "execute_result",
          "data": {
            "text/plain": [
              "array([[-0.06268676, -0.23641016, -0.5645625 , -0.06495672, -0.3050463 ,\n",
              "         0.23891202, -0.11331181,  0.5646367 , -0.72223645,  0.19020256]],\n",
              "      dtype=float32)"
            ]
          },
          "metadata": {
            "tags": []
          },
          "execution_count": 30
        }
      ]
    },
    {
      "cell_type": "code",
      "metadata": {
        "id": "tErnPNxvELAC",
        "colab_type": "code",
        "colab": {
          "base_uri": "https://localhost:8080/",
          "height": 67
        },
        "outputId": "b6bd09fb-669b-4bb7-e194-98e34f031ec5"
      },
      "source": [
        "tf.nn.softmax(predictions).numpy()"
      ],
      "execution_count": 31,
      "outputs": [
        {
          "output_type": "execute_result",
          "data": {
            "text/plain": [
              "array([[0.09795759, 0.08233622, 0.05930293, 0.09773548, 0.07687456,\n",
              "        0.13244048, 0.09312191, 0.18343456, 0.05065231, 0.12614396]],\n",
              "      dtype=float32)"
            ]
          },
          "metadata": {
            "tags": []
          },
          "execution_count": 31
        }
      ]
    },
    {
      "cell_type": "code",
      "metadata": {
        "id": "Hup1WOsaFxla",
        "colab_type": "code",
        "colab": {}
      },
      "source": [
        "model.compile(optimizer = 'adam', loss = tf.keras.losses.SparseCategoricalCrossentropy(from_logits = True), metrics = ['accuracy'])"
      ],
      "execution_count": 32,
      "outputs": []
    },
    {
      "cell_type": "code",
      "metadata": {
        "id": "XvpYDBl_F0ne",
        "colab_type": "code",
        "colab": {
          "base_uri": "https://localhost:8080/",
          "height": 421
        },
        "outputId": "dfec593d-ac0f-49ee-b5d3-0c12745e14c2"
      },
      "source": [
        "model.fit(X_train, y_train, epochs = 10)"
      ],
      "execution_count": 33,
      "outputs": [
        {
          "output_type": "stream",
          "text": [
            "Epoch 1/10\n",
            "WARNING:tensorflow:Model was constructed with shape (None, 28, 28) for input Tensor(\"flatten_3_input:0\", shape=(None, 28, 28), dtype=float32), but it was called on an input with incompatible shape (None, 784).\n",
            "WARNING:tensorflow:Model was constructed with shape (None, 28, 28) for input Tensor(\"flatten_3_input:0\", shape=(None, 28, 28), dtype=float32), but it was called on an input with incompatible shape (None, 784).\n",
            "1313/1313 [==============================] - 3s 2ms/step - loss: 0.3326 - accuracy: 0.9029\n",
            "Epoch 2/10\n",
            "1313/1313 [==============================] - 3s 2ms/step - loss: 0.1618 - accuracy: 0.9515\n",
            "Epoch 3/10\n",
            "1313/1313 [==============================] - 3s 2ms/step - loss: 0.1214 - accuracy: 0.9633\n",
            "Epoch 4/10\n",
            "1313/1313 [==============================] - 3s 2ms/step - loss: 0.0971 - accuracy: 0.9710\n",
            "Epoch 5/10\n",
            "1313/1313 [==============================] - 3s 2ms/step - loss: 0.0812 - accuracy: 0.9750\n",
            "Epoch 6/10\n",
            "1313/1313 [==============================] - 3s 2ms/step - loss: 0.0714 - accuracy: 0.9776\n",
            "Epoch 7/10\n",
            "1313/1313 [==============================] - 3s 2ms/step - loss: 0.0597 - accuracy: 0.9806\n",
            "Epoch 8/10\n",
            "1313/1313 [==============================] - 3s 2ms/step - loss: 0.0566 - accuracy: 0.9813\n",
            "Epoch 9/10\n",
            "1313/1313 [==============================] - 3s 2ms/step - loss: 0.0484 - accuracy: 0.9840\n",
            "Epoch 10/10\n",
            "1313/1313 [==============================] - 3s 2ms/step - loss: 0.0461 - accuracy: 0.9847\n"
          ],
          "name": "stdout"
        },
        {
          "output_type": "execute_result",
          "data": {
            "text/plain": [
              "<tensorflow.python.keras.callbacks.History at 0x7f8e003765f8>"
            ]
          },
          "metadata": {
            "tags": []
          },
          "execution_count": 33
        }
      ]
    },
    {
      "cell_type": "code",
      "metadata": {
        "id": "nEe8FGGSF4j7",
        "colab_type": "code",
        "colab": {
          "base_uri": "https://localhost:8080/",
          "height": 53
        },
        "outputId": "e0e8dd5b-f5e1-4c1b-cef2-0cf849973513"
      },
      "source": [
        "predictions_1 = model.predict(df_test)\n",
        "\n",
        "predictions_2 = np.argmax(predictions_1, axis = 1)\n",
        "\n",
        "final_predictions = pd.Series(predictions_2, name = \"Label\")"
      ],
      "execution_count": 35,
      "outputs": [
        {
          "output_type": "stream",
          "text": [
            "WARNING:tensorflow:Model was constructed with shape (None, 28, 28) for input Tensor(\"flatten_3_input:0\", shape=(None, 28, 28), dtype=float32), but it was called on an input with incompatible shape (32, 784).\n"
          ],
          "name": "stdout"
        }
      ]
    },
    {
      "cell_type": "code",
      "metadata": {
        "id": "gh7rdDIGGGBJ",
        "colab_type": "code",
        "colab": {}
      },
      "source": [
        ""
      ],
      "execution_count": 36,
      "outputs": []
    },
    {
      "cell_type": "code",
      "metadata": {
        "id": "TDox905qGZBT",
        "colab_type": "code",
        "colab": {}
      },
      "source": [
        ""
      ],
      "execution_count": null,
      "outputs": []
    }
  ]
}